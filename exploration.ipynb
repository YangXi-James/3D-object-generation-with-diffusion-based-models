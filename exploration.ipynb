{
 "cells": [
  {
   "cell_type": "code",
   "execution_count": 1,
   "metadata": {},
   "outputs": [],
   "source": [
    "%load_ext autoreload\n",
    "%autoreload 2\n",
    "\n",
    "import torch\n",
    "from models.encoders.pointnet import PointNetEncoder, ResNetEncoder"
   ]
  },
  {
   "cell_type": "code",
   "execution_count": 6,
   "metadata": {},
   "outputs": [
    {
     "name": "stdout",
     "output_type": "stream",
     "text": [
      "torch.Size([32, 512, 2048])\n",
      "torch.Size([32, 512, 1])\n",
      "torch.Size([32, 512])\n",
      "torch.Size([32, 100])\n",
      "torch.Size([32, 100])\n"
     ]
    }
   ],
   "source": [
    "encoder = PointNetEncoder(100, 3)\n",
    "\n",
    "a = torch.rand(32, 2048, 3)\n",
    "mu, var = encoder(a)\n",
    "\n",
    "print(mu.shape)\n",
    "print(var.shape)"
   ]
  },
  {
   "cell_type": "code",
   "execution_count": 6,
   "metadata": {},
   "outputs": [
    {
     "name": "stdout",
     "output_type": "stream",
     "text": [
      "torch.Size([32, 100])\n",
      "torch.Size([32, 100])\n"
     ]
    }
   ],
   "source": [
    "encoder_resnet = ResNetEncoder(100, 3)\n",
    "a = torch.rand(32, 2048, 3)\n",
    "mu, var = encoder_resnet(a)\n",
    "\n",
    "print(mu.shape)\n",
    "print(var.shape)"
   ]
  },
  {
   "cell_type": "code",
   "execution_count": 8,
   "metadata": {},
   "outputs": [
    {
     "name": "stdout",
     "output_type": "stream",
     "text": [
      "torch.Size([32, 2048, 128])\n"
     ]
    }
   ],
   "source": [
    "input_tensor = torch.randn(32, 1, 128)  # Replace B with the actual batch size\n",
    "\n",
    "# Repeat the tensor along the second dimension\n",
    "repeated_tensor = input_tensor.repeat(1, 2048, 1)  # Bx2048x128\n",
    "print(repeated_tensor.shape)\n",
    "\n",
    "# # Reshape the tensor to the desired shape\n",
    "# reshaped_tensor = repeated_tensor.view(batch_size, 2048, feature_size)\n",
    "\n",
    "\n",
    "# output_tensor = repeat_and_reshape(input_tensor)\n",
    "# print(output_tensor.size())  # Prints: torch.Size([B, 2048, 128])\n"
   ]
  },
  {
   "cell_type": "code",
   "execution_count": 7,
   "metadata": {},
   "outputs": [
    {
     "name": "stdout",
     "output_type": "stream",
     "text": [
      "using resnet encoder.\n"
     ]
    }
   ],
   "source": [
    "import os\n",
    "import math\n",
    "import argparse\n",
    "import torch\n",
    "import torch.utils.tensorboard\n",
    "from torch.utils.data import DataLoader\n",
    "from torch.nn.utils import clip_grad_norm_\n",
    "from tqdm.auto import tqdm\n",
    "\n",
    "from utils.dataset import *\n",
    "from utils.misc import *\n",
    "from utils.data import *\n",
    "from models.vae_gaussian import *\n",
    "from models.vae_flow import *\n",
    "from models.flow import add_spectral_norm, spectral_norm_power_iteration\n",
    "from evaluation import *\n",
    "\n",
    "class Params:\n",
    "    def __init__(self):\n",
    "        self.beta_1 = 0.0001\n",
    "        self.beta_T = 0.02\n",
    "        self.categories = ['airplane']\n",
    "        self.dataset_path = '/data/dongyin/diffusion-point-cloud/data/shapenet.hdf5'\n",
    "        self.device = 'cuda:2'\n",
    "        self.diffusion_layer_type = 'squash'\n",
    "        self.encoder = 'resnet'\n",
    "        self.end_lr = 0.0001\n",
    "        self.flexibility = 0.0\n",
    "        self.kl_weight = 0.001\n",
    "        self.latent_dim = 256\n",
    "        self.latent_flow_depth = 14\n",
    "        self.latent_flow_hidden_dim = 256\n",
    "        self.log_root = './logs_gen'\n",
    "        self.logging = True\n",
    "        self.lr = 0.002\n",
    "        self.max_grad_norm = 10\n",
    "        self.max_iters = float('inf')\n",
    "        self.model = 'flow'\n",
    "        self.num_samples = 4\n",
    "        self.num_steps = 100\n",
    "        self.residual = True\n",
    "        self.sample_num_points = 2048\n",
    "        self.scale_mode = 'shape_unit'\n",
    "        self.sched_end_epoch = 400000\n",
    "        self.sched_mode = 'linear'\n",
    "        self.sched_start_epoch = 200000\n",
    "        self.seed = 2020\n",
    "        self.spectral_norm = False\n",
    "        self.tag = None\n",
    "        self.test_freq = 30000\n",
    "        self.test_size = 100\n",
    "        self.train_batch_size = 128\n",
    "        self.truncate_std = 2.0\n",
    "        self.val_batch_size = 64\n",
    "        self.val_freq = 1000\n",
    "        self.weight_decay = 0\n",
    "\n",
    "args = Params()\n",
    "seed_all(args.seed)\n",
    "\n",
    "train_dset = ShapeNetCore(\n",
    "    path=args.dataset_path,\n",
    "    cates=args.categories,\n",
    "    split='train',\n",
    "    scale_mode=args.scale_mode,\n",
    ")\n",
    "val_dset = ShapeNetCore(\n",
    "    path=args.dataset_path,\n",
    "    cates=args.categories,\n",
    "    split='val',\n",
    "    scale_mode=args.scale_mode,\n",
    ")\n",
    "train_iter = get_data_iterator(DataLoader(\n",
    "    train_dset,\n",
    "    batch_size=args.train_batch_size,\n",
    "    num_workers=0,\n",
    "))\n",
    "\n",
    "if args.model == 'gaussian':\n",
    "    model = GaussianVAE(args).to(args.device)\n",
    "elif args.model == 'flow':\n",
    "    model = FlowVAE(args).to(args.device)\n",
    "\n",
    "if args.spectral_norm:\n",
    "    add_spectral_norm(model)\n",
    "\n",
    "optimizer = torch.optim.Adam(model.parameters(), \n",
    "    lr=args.lr, \n",
    "    weight_decay=args.weight_decay\n",
    ")\n",
    "scheduler = get_linear_scheduler(\n",
    "    optimizer,\n",
    "    start_epoch=args.sched_start_epoch,\n",
    "    end_epoch=args.sched_end_epoch,\n",
    "    start_lr=args.lr,\n",
    "    end_lr=args.end_lr\n",
    ")\n",
    "\n",
    "def validate_inspect():\n",
    "    z = torch.randn([args.num_samples, args.latent_dim]).to(args.device)\n",
    "    x = model.sample(z, args.sample_num_points, flexibility=args.flexibility) #, truncate_std=args.truncate_std)\n",
    "\n",
    "def test():\n",
    "    ref_pcs = []\n",
    "    for i, data in enumerate(val_dset):\n",
    "        if i >= args.test_size:\n",
    "            break\n",
    "        ref_pcs.append(data['pointcloud'].unsqueeze(0))\n",
    "    ref_pcs = torch.cat(ref_pcs, dim=0)\n",
    "\n",
    "    gen_pcs = []\n",
    "    for i in tqdm(range(0, math.ceil(args.test_size / args.val_batch_size)), 'Generate'):\n",
    "        with torch.no_grad():\n",
    "            z = torch.randn([args.val_batch_size, args.latent_dim]).to(args.device)\n",
    "            x = model.sample(z, args.sample_num_points, flexibility=args.flexibility)\n",
    "            gen_pcs.append(x.detach().cpu())\n",
    "    gen_pcs = torch.cat(gen_pcs, dim=0)[:args.test_size]\n",
    "\n",
    "    # Denormalize point clouds, all shapes have zero mean.\n",
    "    # [WARNING]: Do NOT denormalize!\n",
    "    # ref_pcs *= val_dset.stats['std']\n",
    "    # gen_pcs *= val_dset.stats['std']\n",
    "\n",
    "    with torch.no_grad():\n",
    "        results = compute_all_metrics(gen_pcs.to(args.device), ref_pcs.to(args.device), args.val_batch_size)\n",
    "        results = {k:v.item() for k, v in results.items()}\n",
    "        jsd = jsd_between_point_cloud_sets(gen_pcs.cpu().numpy(), ref_pcs.cpu().numpy())\n",
    "        results['jsd'] = jsd"
   ]
  },
  {
   "cell_type": "code",
   "execution_count": 52,
   "metadata": {},
   "outputs": [],
   "source": [
    "sample = torch.randn(1, 2048, 3)\n",
    "ref = torch.randn(1, 2048, 3)"
   ]
  },
  {
   "cell_type": "code",
   "execution_count": null,
   "metadata": {},
   "outputs": [],
   "source": [
    "import torch\n",
    "from itertools import permutations\n",
    "\n",
    "import torch\n",
    "import torch.nn.functional as F\n",
    "\n",
    "def M(C, u, v, reg):\n",
    "    \"Modified cost for logarithmic updates\"\n",
    "    \"$M_{ij} = (-c_{ij} + u_i + v_j) / \\epsilon$\"\n",
    "    return (-C + u.unsqueeze(1) + v.unsqueeze(0)) / reg\n",
    "\n",
    "def lse(A):\n",
    "    \"log-sum-exp\"\n",
    "    return torch.log(torch.exp(A).sum(1, keepdim=True) + 1e-6)  # add 10^-6 to prevent NaN\n",
    "\n",
    "\n",
    "def sinkhorn(dist_mat, reg, num_iters=100):\n",
    "    \"\"\"\n",
    "    Run the Sinkhorn algorithm.\n",
    "    \n",
    "    Args:\n",
    "    - dist_mat (torch.Tensor): The distance matrix. shape=(n_samples, n_samples)\n",
    "    - reg (float): The regularization term.\n",
    "    - num_iters (int): Number of iterations to run the algorithm.\n",
    "\n",
    "    Returns:\n",
    "    - P (torch.Tensor): The optimal transport matrix.\n",
    "    \"\"\"\n",
    "    n_samples = dist_mat.shape[0]\n",
    "\n",
    "    mu = 1. / n_samples * torch.FloatTensor(n_samples).fill_(1)\n",
    "    nu = 1. / n_samples * torch.FloatTensor(n_samples).fill_(1)\n",
    "    thresh = 10**(-1)  # stopping criterion\n",
    "    actual_nits = 0  # to check if algorithm terminates because of threshold or max iterations reached\n",
    "\n",
    "    u, v, err = 0. * mu, 0. * nu, 0.\n",
    "    \n",
    "    for _ in range(num_iters):\n",
    "\n",
    "        u1 = u  # useful to check the update\n",
    "        u = reg * (torch.log(mu) - lse(M(dist_mat, u, v, reg)).squeeze()) + u\n",
    "        v = reg * (torch.log(nu) - lse(M(dist_mat, u, v, reg).t()).squeeze()) + v\n",
    "\n",
    "        # v = torch.sum(K * u, dim=0)\n",
    "        # u = 1.0 / torch.matmul(K, v)\n",
    "        err = (u - u1).abs().sum()\n",
    "\n",
    "        actual_nits += 1\n",
    "        if err < thresh:\n",
    "            break\n",
    "        \n",
    "    P = torch.exp(M(dist_mat, u, v, reg))\n",
    "    \n",
    "    return P\n",
    "\n",
    "def emd_approx(sample_batch, reference_batch, reg=0.1):\n",
    "    \"\"\"\n",
    "    Calculate the EMD for each pair of sample and reference examples.\n",
    "\n",
    "    Args:\n",
    "    - sample (torch.Tensor): The sample set. shape=(n_samples, n_dims)\n",
    "    - reference (torch.Tensor): The reference set. shape=(n_samples, n_dims)\n",
    "    - reg (float): The regularization term.\n",
    "\n",
    "    Returns:\n",
    "    - emd (torch.Tensor): The EMD for each pair of examples. shape=(n_samples,)\n",
    "    \"\"\"\n",
    "    batch_size, n_samples, _ = sample_batch.shape\n",
    "    emd = torch.zeros((batch_size,))\n",
    "    for b in range(batch_size):\n",
    "        # Calculate the distance matrix\n",
    "        sample_exp = sample_batch[b].unsqueeze(1)\n",
    "        reference_exp = reference_batch[b].unsqueeze(0)\n",
    "        dist_mat = torch.sum((sample_exp - reference_exp)**2, dim=2)\n",
    "        # print(sample_exp.shape, reference_exp.shape, dist_mat.shape)\n",
    "\n",
    "        # Run the Sinkhorn algorithm\n",
    "        P = sinkhorn(dist_mat, reg)\n",
    "\n",
    "        # Calculate the EMD\n",
    "        emd[b] = torch.sum(P * dist_mat)\n",
    "    \n",
    "    return torch.mean(emd)\n",
    "\n",
    "def emd_approx_batch(sample_batch, reference_batch, reg=0.1, num_iters=100):\n",
    "    \"\"\"\n",
    "    Calculate the EMD for each pair of sample and reference examples in a batch using Sinkhorn iterations.\n",
    "\n",
    "    Args:\n",
    "    - sample_batch (torch.Tensor): The batch of sample sets. shape=(batch_size, n_samples, n_dims)\n",
    "    - reference_batch (torch.Tensor): The batch of reference sets. shape=(batch_size, n_samples, n_dims)\n",
    "    - reg (float): The regularization term.\n",
    "    - num_iters (int): Number of iterations to run the algorithm.\n",
    "\n",
    "    Returns:\n",
    "    - emd (torch.Tensor): The EMD for each pair of examples. shape=(batch_size,)\n",
    "    \"\"\"\n",
    "    batch_size, n_samples, _ = sample_batch.shape\n",
    "\n",
    "    # Calculate pairwise distances\n",
    "    x_sq = torch.sum(sample_batch * sample_batch, dim=-1, keepdim=True)\n",
    "    y_sq = torch.sum(reference_batch * reference_batch, dim=-1, keepdim=True)\n",
    "    xy = torch.matmul(sample_batch, reference_batch.transpose(-2, -1))\n",
    "    dist_mat = - 2*xy + y_sq.transpose(-2, -1) + x_sq  # Using (a-b)^2 = a^2 + b^2 - 2ab\n",
    "\n",
    "    # Run the Sinkhorn algorithm\n",
    "    K = torch.exp(-dist_mat / reg)\n",
    "    u = torch.ones(batch_size, n_samples, device=sample_batch.device) / n_samples\n",
    "    for _ in range(num_iters):\n",
    "        v = torch.sum(K * u.unsqueeze(-1), dim=1)\n",
    "        u = 1.0 / torch.sum(K * v.unsqueeze(1), dim=2)\n",
    "\n",
    "    P = u.unsqueeze(-1) * K * v.unsqueeze(1)\n",
    "\n",
    "    # Calculate the EMD\n",
    "    emd = torch.sum(P * dist_mat, dim=[1, 2])\n",
    "\n",
    "    return emd\n",
    "\n",
    "print(emd_approx(sample, ref))\n",
    "print(emd_approx(torch.randn(128, 2048, 3), torch.randn(128, 2048, 3)))"
   ]
  },
  {
   "cell_type": "code",
   "execution_count": 55,
   "metadata": {},
   "outputs": [
    {
     "data": {
      "text/plain": [
       "607"
      ]
     },
     "execution_count": 55,
     "metadata": {},
     "output_type": "execute_result"
    }
   ],
   "source": [
    "len(val_dset)"
   ]
  },
  {
   "cell_type": "code",
   "execution_count": 8,
   "metadata": {},
   "outputs": [
    {
     "data": {
      "application/vnd.jupyter.widget-view+json": {
       "model_id": "62d00ef5358b4460957b861617e2b5fe",
       "version_major": 2,
       "version_minor": 0
      },
      "text/plain": [
       "Generate:   0%|          | 0/2 [00:00<?, ?it/s]"
      ]
     },
     "metadata": {},
     "output_type": "display_data"
    },
    {
     "name": "stdout",
     "output_type": "stream",
     "text": [
      "Pairwise EMD CD\n"
     ]
    },
    {
     "data": {
      "application/vnd.jupyter.widget-view+json": {
       "model_id": "15e6d0b8788b4fada5888ad83e377098",
       "version_major": 2,
       "version_minor": 0
      },
      "text/plain": [
       "Pairwise EMD-CD:   0%|          | 0/100 [00:00<?, ?it/s]"
      ]
     },
     "metadata": {},
     "output_type": "display_data"
    },
    {
     "ename": "KeyboardInterrupt",
     "evalue": "",
     "output_type": "error",
     "traceback": [
      "\u001b[0;31m---------------------------------------------------------------------------\u001b[0m",
      "\u001b[0;31mKeyboardInterrupt\u001b[0m                         Traceback (most recent call last)",
      "Cell \u001b[0;32mIn[8], line 6\u001b[0m\n\u001b[1;32m      2\u001b[0m model\u001b[39m.\u001b[39mload_state_dict(ckpt[\u001b[39m'\u001b[39m\u001b[39mstate_dict\u001b[39m\u001b[39m'\u001b[39m])\n\u001b[1;32m      5\u001b[0m \u001b[39m# validate_inspect()\u001b[39;00m\n\u001b[0;32m----> 6\u001b[0m test()\n",
      "Cell \u001b[0;32mIn[7], line 125\u001b[0m, in \u001b[0;36mtest\u001b[0;34m()\u001b[0m\n\u001b[1;32m    119\u001b[0m \u001b[39m# Denormalize point clouds, all shapes have zero mean.\u001b[39;00m\n\u001b[1;32m    120\u001b[0m \u001b[39m# [WARNING]: Do NOT denormalize!\u001b[39;00m\n\u001b[1;32m    121\u001b[0m \u001b[39m# ref_pcs *= val_dset.stats['std']\u001b[39;00m\n\u001b[1;32m    122\u001b[0m \u001b[39m# gen_pcs *= val_dset.stats['std']\u001b[39;00m\n\u001b[1;32m    124\u001b[0m \u001b[39mwith\u001b[39;00m torch\u001b[39m.\u001b[39mno_grad():\n\u001b[0;32m--> 125\u001b[0m     results \u001b[39m=\u001b[39m compute_all_metrics(gen_pcs\u001b[39m.\u001b[39;49mto(args\u001b[39m.\u001b[39;49mdevice), ref_pcs\u001b[39m.\u001b[39;49mto(args\u001b[39m.\u001b[39;49mdevice), args\u001b[39m.\u001b[39;49mval_batch_size)\n\u001b[1;32m    126\u001b[0m     results \u001b[39m=\u001b[39m {k:v\u001b[39m.\u001b[39mitem() \u001b[39mfor\u001b[39;00m k, v \u001b[39min\u001b[39;00m results\u001b[39m.\u001b[39mitems()}\n\u001b[1;32m    127\u001b[0m     jsd \u001b[39m=\u001b[39m jsd_between_point_cloud_sets(gen_pcs\u001b[39m.\u001b[39mcpu()\u001b[39m.\u001b[39mnumpy(), ref_pcs\u001b[39m.\u001b[39mcpu()\u001b[39m.\u001b[39mnumpy())\n",
      "File \u001b[0;32m~/ECE-285-DGM-Project/evaluation/evaluation_metrics.py:267\u001b[0m, in \u001b[0;36mcompute_all_metrics\u001b[0;34m(sample_pcs, ref_pcs, batch_size)\u001b[0m\n\u001b[1;32m    264\u001b[0m results \u001b[39m=\u001b[39m {}\n\u001b[1;32m    266\u001b[0m \u001b[39mprint\u001b[39m(\u001b[39m\"\u001b[39m\u001b[39mPairwise EMD CD\u001b[39m\u001b[39m\"\u001b[39m)\n\u001b[0;32m--> 267\u001b[0m M_rs_cd, M_rs_emd \u001b[39m=\u001b[39m _pairwise_EMD_CD_(ref_pcs, sample_pcs, batch_size)\n\u001b[1;32m    269\u001b[0m \u001b[39m## CD\u001b[39;00m\n\u001b[1;32m    270\u001b[0m res_cd \u001b[39m=\u001b[39m lgan_mmd_cov(M_rs_cd\u001b[39m.\u001b[39mt())\n",
      "File \u001b[0;32m~/ECE-285-DGM-Project/evaluation/evaluation_metrics.py:182\u001b[0m, in \u001b[0;36m_pairwise_EMD_CD_\u001b[0;34m(sample_pcs, ref_pcs, batch_size, verbose)\u001b[0m\n\u001b[1;32m    179\u001b[0m     dl, dr \u001b[39m=\u001b[39m distChamfer(sample_batch_exp, ref_batch)\n\u001b[1;32m    180\u001b[0m     cd_lst\u001b[39m.\u001b[39mappend((dl\u001b[39m.\u001b[39mmean(dim\u001b[39m=\u001b[39m\u001b[39m1\u001b[39m) \u001b[39m+\u001b[39m dr\u001b[39m.\u001b[39mmean(dim\u001b[39m=\u001b[39m\u001b[39m1\u001b[39m))\u001b[39m.\u001b[39mview(\u001b[39m1\u001b[39m, \u001b[39m-\u001b[39m\u001b[39m1\u001b[39m))\n\u001b[0;32m--> 182\u001b[0m     emd_batch \u001b[39m=\u001b[39m emd_approx(sample_batch_exp, ref_batch)\n\u001b[1;32m    183\u001b[0m     emd_lst\u001b[39m.\u001b[39mappend(emd_batch\u001b[39m.\u001b[39mview(\u001b[39m1\u001b[39m, \u001b[39m-\u001b[39m\u001b[39m1\u001b[39m))\n\u001b[1;32m    185\u001b[0m cd_lst \u001b[39m=\u001b[39m torch\u001b[39m.\u001b[39mcat(cd_lst, dim\u001b[39m=\u001b[39m\u001b[39m1\u001b[39m)\n",
      "File \u001b[0;32m~/ECE-285-DGM-Project/evaluation/evaluation_metrics.py:97\u001b[0m, in \u001b[0;36memd_approx\u001b[0;34m(sample_batch, reference_batch, reg)\u001b[0m\n\u001b[1;32m     93\u001b[0m dist_mat \u001b[39m=\u001b[39m torch\u001b[39m.\u001b[39msum((sample_exp \u001b[39m-\u001b[39m reference_exp)\u001b[39m*\u001b[39m\u001b[39m*\u001b[39m\u001b[39m2\u001b[39m, dim\u001b[39m=\u001b[39m\u001b[39m2\u001b[39m)\n\u001b[1;32m     94\u001b[0m \u001b[39m# print(sample_exp.shape, reference_exp.shape, dist_mat.shape)\u001b[39;00m\n\u001b[1;32m     95\u001b[0m \n\u001b[1;32m     96\u001b[0m \u001b[39m# Run the Sinkhorn algorithm\u001b[39;00m\n\u001b[0;32m---> 97\u001b[0m P \u001b[39m=\u001b[39m sinkhorn(dist_mat, reg)\n\u001b[1;32m     99\u001b[0m \u001b[39m# Calculate the EMD\u001b[39;00m\n\u001b[1;32m    100\u001b[0m emd[b] \u001b[39m=\u001b[39m torch\u001b[39m.\u001b[39msum(P \u001b[39m*\u001b[39m dist_mat)\n",
      "File \u001b[0;32m~/ECE-285-DGM-Project/evaluation/evaluation_metrics.py:61\u001b[0m, in \u001b[0;36msinkhorn\u001b[0;34m(dist_mat, reg, num_iters)\u001b[0m\n\u001b[1;32m     59\u001b[0m u1 \u001b[39m=\u001b[39m u  \u001b[39m# useful to check the update\u001b[39;00m\n\u001b[1;32m     60\u001b[0m u \u001b[39m=\u001b[39m reg \u001b[39m*\u001b[39m (torch\u001b[39m.\u001b[39mlog(mu) \u001b[39m-\u001b[39m lse(M(dist_mat, u, v, reg))\u001b[39m.\u001b[39msqueeze()) \u001b[39m+\u001b[39m u\n\u001b[0;32m---> 61\u001b[0m v \u001b[39m=\u001b[39m reg \u001b[39m*\u001b[39m (torch\u001b[39m.\u001b[39mlog(nu) \u001b[39m-\u001b[39m lse(M(dist_mat, u, v, reg)\u001b[39m.\u001b[39mt())\u001b[39m.\u001b[39msqueeze()) \u001b[39m+\u001b[39m v\n\u001b[1;32m     63\u001b[0m \u001b[39m# v = torch.sum(K * u, dim=0)\u001b[39;00m\n\u001b[1;32m     64\u001b[0m \u001b[39m# u = 1.0 / torch.matmul(K, v)\u001b[39;00m\n\u001b[1;32m     65\u001b[0m err \u001b[39m=\u001b[39m (u \u001b[39m-\u001b[39m u1)\u001b[39m.\u001b[39mabs()\u001b[39m.\u001b[39msum()\n",
      "File \u001b[0;32m~/ECE-285-DGM-Project/evaluation/evaluation_metrics.py:29\u001b[0m, in \u001b[0;36mM\u001b[0;34m(C, u, v, reg)\u001b[0m\n\u001b[1;32m     27\u001b[0m \u001b[39m\"\u001b[39m\u001b[39mModified cost for logarithmic updates\u001b[39m\u001b[39m\"\u001b[39m\n\u001b[1;32m     28\u001b[0m \u001b[39m\"\u001b[39m\u001b[39m$M_\u001b[39m\u001b[39m{ij}\u001b[39;00m\u001b[39m = (-c_\u001b[39m\u001b[39m{ij}\u001b[39;00m\u001b[39m + u_i + v_j) / \u001b[39m\u001b[39m\\\u001b[39m\u001b[39mepsilon$\u001b[39m\u001b[39m\"\u001b[39m\n\u001b[0;32m---> 29\u001b[0m \u001b[39mreturn\u001b[39;00m (\u001b[39m-\u001b[39;49mC \u001b[39m+\u001b[39;49m u\u001b[39m.\u001b[39;49munsqueeze(\u001b[39m1\u001b[39;49m) \u001b[39m+\u001b[39m v\u001b[39m.\u001b[39munsqueeze(\u001b[39m0\u001b[39m)) \u001b[39m/\u001b[39m reg\n",
      "\u001b[0;31mKeyboardInterrupt\u001b[0m: "
     ]
    }
   ],
   "source": [
    "ckpt = torch.load(\"./logs_gen/GEN_2023_06_04__23_33_18/ckpt_0.000000_30000.pt\")\n",
    "model.load_state_dict(ckpt['state_dict'])\n",
    "\n",
    "\n",
    "# validate_inspect()\n",
    "test()"
   ]
  }
 ],
 "metadata": {
  "kernelspec": {
   "display_name": "torch",
   "language": "python",
   "name": "python3"
  },
  "language_info": {
   "codemirror_mode": {
    "name": "ipython",
    "version": 3
   },
   "file_extension": ".py",
   "mimetype": "text/x-python",
   "name": "python",
   "nbconvert_exporter": "python",
   "pygments_lexer": "ipython3",
   "version": "3.8.16"
  },
  "orig_nbformat": 4
 },
 "nbformat": 4,
 "nbformat_minor": 2
}
